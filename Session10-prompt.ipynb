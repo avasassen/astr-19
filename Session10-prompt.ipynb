{
 "cells": [
  {
   "cell_type": "markdown",
   "id": "dfc00542-1bec-4775-b2ea-9970db1fe0e2",
   "metadata": {},
   "source": [
    "# Session 10 Prompt"
   ]
  },
  {
   "cell_type": "markdown",
   "id": "1b90c55c-b434-480f-9bda-b3a1cc11dbeb",
   "metadata": {},
   "source": [
    "Import Libraries"
   ]
  },
  {
   "cell_type": "code",
   "execution_count": null,
   "id": "e63ce88f-82b7-441c-941f-2a0a5a8945b7",
   "metadata": {},
   "outputs": [],
   "source": [
    "import matplotlib.pyplot as plt\n",
    "import numpy as np"
   ]
  },
  {
   "cell_type": "code",
   "execution_count": null,
   "id": "dc93958b-bbaf-49a6-a8d8-aa59c40e756e",
   "metadata": {},
   "outputs": [],
   "source": [
    "#define random parameters, with normal gaussian distribution\n",
    "mu, sigma, size = 0, 0.1, 1000\n",
    "x = np.random.default_rng().normal(mu, sigma, size)\n",
    "\n",
    "#describe the histogram\n",
    "width = 0.5\n",
    "histmin = np.floor(min(x))\n",
    "histmax = np.ceil(max(x))+width \n",
    "\n",
    "#label the graph\n",
    "bins = np.arange(histmin,histmax,width)\n",
    "plt.hist(x,bins=100,alpha=0.5,edgecolor=\"black\")\n",
    "plt.ylabel(\"Num of bin\")\n",
    "plt.xlabel(\"X\")\n",
    "plt.savefig(\"Session10-prompt.png\",bbox_inches=\"tight\",facecolor=\"white\")\n"
   ]
  }
 ],
 "metadata": {
  "kernelspec": {
   "display_name": "Python 3 (ipykernel)",
   "language": "python",
   "name": "python3"
  },
  "language_info": {
   "codemirror_mode": {
    "name": "ipython",
    "version": 3
   },
   "file_extension": ".py",
   "mimetype": "text/x-python",
   "name": "python",
   "nbconvert_exporter": "python",
   "pygments_lexer": "ipython3",
   "version": "3.12.0"
  }
 },
 "nbformat": 4,
 "nbformat_minor": 5
}
