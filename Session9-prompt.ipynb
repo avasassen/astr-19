{
 "cells": [
  {
   "cell_type": "markdown",
   "id": "f2debca7-0bab-4c4c-95f3-be6d37118fcf",
   "metadata": {},
   "source": [
    "# Session 9 Prompt"
   ]
  },
  {
   "cell_type": "markdown",
   "id": "aa635fdb-aa74-4c5d-9b8a-48adac84a8a5",
   "metadata": {},
   "source": [
    "Import Libraries"
   ]
  },
  {
   "cell_type": "code",
   "execution_count": null,
   "id": "fe2cf131-6485-409f-9cac-2dca8e8e0b7c",
   "metadata": {},
   "outputs": [],
   "source": [
    "import matplotlib.pyplot as plt\n",
    "import numpy as np"
   ]
  },
  {
   "cell_type": "code",
   "execution_count": null,
   "id": "aa96e6ae-0db5-47d9-a99f-f0013ed2de95",
   "metadata": {},
   "outputs": [],
   "source": [
    "#create random data, pull 1000 random numbers between 0,1, distributed uniformly\n",
    "random_numbers = np.random.uniform(0, 1, 1000)\n",
    "\n",
    "#describe the histogram\n",
    "width = 0.5\n",
    "histmin = np.floor(min(x))\n",
    "histmax = np.ceil(max(x))+width \n",
    "\n",
    "#label the graph\n",
    "bins = np.arange(histmin,histmax,width)\n",
    "plt.hist(x,bins=100,alpha=0.5,edgecolor=\"black\")\n",
    "plt.ylabel(\"Num of bin\")\n",
    "plt.xlabel(\"X\")\n",
    "plt.savefig(\"Session9-prompt.png\",bbox_inches=\"tight\",facecolor=\"white\")"
   ]
  }
 ],
 "metadata": {
  "kernelspec": {
   "display_name": "Python 3 (ipykernel)",
   "language": "python",
   "name": "python3"
  },
  "language_info": {
   "codemirror_mode": {
    "name": "ipython",
    "version": 3
   },
   "file_extension": ".py",
   "mimetype": "text/x-python",
   "name": "python",
   "nbconvert_exporter": "python",
   "pygments_lexer": "ipython3",
   "version": "3.12.0"
  }
 },
 "nbformat": 4,
 "nbformat_minor": 5
}
