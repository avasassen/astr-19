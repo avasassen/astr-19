{
 "cells": [
  {
   "cell_type": "code",
   "execution_count": null,
   "id": "6a010099-5dd6-4913-94b7-b2d59f16d724",
   "metadata": {},
   "outputs": [],
   "source": [
    "%matplotlib inline\n",
    "import numpy as np\n",
    "import matplotlib.pyplot as plt"
   ]
  },
  {
   "cell_type": "code",
   "execution_count": null,
   "id": "33bd3428-5f18-4580-b55b-edb1fc813323",
   "metadata": {},
   "outputs": [],
   "source": [
    "x = np.arange(0, 5, 0.1)   # create x=[0..5] in 0.1 increments\n",
    "y = np.sin(x)              # y = sin(x)\n",
    "plt.plot(x,y)              # make a plot\n",
    "plt.xlabel('x')            # label x axis\n",
    "plt.ylabel('sin(x)')       # label y axis\n",
    "plt.show()                 # show the plot on the screen"
   ]
  },
  {
   "cell_type": "code",
   "execution_count": null,
   "id": "d5162c9b-b464-48a5-90ea-b106d3386883",
   "metadata": {},
   "outputs": [],
   "source": [
    "x = np.arange(0, 5, 0.1)   # create x=[0..5] in 0.1 increments\n",
    "y = np.sin(x)              # y = sin(x)\n",
    "plt.plot(x,y)              # make a plot\n",
    "plt.xlabel('x')            # label x axis\n",
    "plt.ylabel('sin(x)')       # label y axis\n",
    "plt.show()                 # show the plot on the screen\n",
    "plt.savefig('sinx.png',bbox_inches=\"tight\",dpi=660)"
   ]
  }
 ],
 "metadata": {
  "kernelspec": {
   "display_name": "Python 3 (ipykernel)",
   "language": "python",
   "name": "python3"
  },
  "language_info": {
   "codemirror_mode": {
    "name": "ipython",
    "version": 3
   },
   "file_extension": ".py",
   "mimetype": "text/x-python",
   "name": "python",
   "nbconvert_exporter": "python",
   "pygments_lexer": "ipython3",
   "version": "3.12.0"
  }
 },
 "nbformat": 4,
 "nbformat_minor": 5
}
