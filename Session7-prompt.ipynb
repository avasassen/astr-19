{
 "cells": [
  {
   "cell_type": "markdown",
   "id": "0c260b8f-f3cc-4c21-b6f6-45c97319287b",
   "metadata": {},
   "source": [
    "# Session 7 Prompt Journal 2"
   ]
  },
  {
   "cell_type": "code",
   "execution_count": null,
   "id": "54d67fad-be17-4b7b-8509-e8e32042c9e9",
   "metadata": {},
   "outputs": [],
   "source": [
    "#import libraries\n",
    "import numpy as np\n",
    "import matplotlib.pyplot as plt"
   ]
  },
  {
   "cell_type": "code",
   "execution_count": null,
   "id": "857d7b19-feef-4030-8d02-f824313282df",
   "metadata": {},
   "outputs": [],
   "source": [
    "x = np.linspace(0.0,1,num=100)      #create an array that ranges from 0,1 in 100 steps\n",
    "y = np.exp(x)                       #defines function"
   ]
  },
  {
   "cell_type": "code",
   "execution_count": null,
   "id": "78db2079-813a-4035-8d05-86f42c5c877d",
   "metadata": {},
   "outputs": [],
   "source": [
    "plt.plot(x,y)                       #make plot\n",
    "plt.xlabel('Time [milliseconds]')   #label x axis \n",
    "plt.ylabel('Awesomeness')           #label y axis\n",
    "plt.savefig('session7.png',bbox_inches=\"tight\",dpi=600)     #save the figure\n",
    "plt.show()                          #show the figure"
   ]
  }
 ],
 "metadata": {
  "kernelspec": {
   "display_name": "Python 3 (ipykernel)",
   "language": "python",
   "name": "python3"
  },
  "language_info": {
   "codemirror_mode": {
    "name": "ipython",
    "version": 3
   },
   "file_extension": ".py",
   "mimetype": "text/x-python",
   "name": "python",
   "nbconvert_exporter": "python",
   "pygments_lexer": "ipython3",
   "version": "3.12.0"
  }
 },
 "nbformat": 4,
 "nbformat_minor": 5
}
