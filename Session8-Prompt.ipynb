{
 "cells": [
  {
   "cell_type": "markdown",
   "id": "01a9521f-34c4-4013-8345-742cf89662e9",
   "metadata": {},
   "source": [
    "# Session 8 Prompt Journal 2"
   ]
  },
  {
   "cell_type": "code",
   "execution_count": null,
   "id": "92b9fdfd-891d-43a8-9ffe-ab651bea81fd",
   "metadata": {},
   "outputs": [],
   "source": [
    "#import libraries\n",
    "import numpy as np\n",
    "import matplotlib.pyplot as plt"
   ]
  },
  {
   "cell_type": "code",
   "execution_count": null,
   "id": "4173dcdf-090a-4b95-8474-061b3d1d348c",
   "metadata": {},
   "outputs": [],
   "source": [
    "#define variables and functions\n",
    "x = np.linspace(0.0,1,num=100)\n",
    "y = np.sin(x)\n",
    "z = np.cos(x)"
   ]
  },
  {
   "cell_type": "code",
   "execution_count": null,
   "id": "5c975cdd-8033-4872-941a-3e2e0faa4602",
   "metadata": {},
   "outputs": [],
   "source": [
    "#create two plots\n",
    "f, axarr = plt.subplots(1,2)\n",
    "\n",
    "#plot 1 sin(x)\n",
    "axarr[0].plot(x,y)\n",
    "axarr[0].set_xlabel('x')\n",
    "axarr[0].set_ylabel('y')\n",
    "axarr[0].set_title('Sin(x)')\n",
    "\n",
    "#plot 2 cos(x)\n",
    "axarr[1].plot(x,z)\n",
    "axarr[1].set_xlabel('x')\n",
    "axarr[1].set_ylabel('z')\n",
    "axarr[1].set_title('Cos(x)')\n",
    "\n",
    "#adjust the width of the plots, to space it out\n",
    "f.subplots_adjust(wspace=0.4)\n",
    "\n",
    "#save the figure and show the plots\n",
    "plt.savefig('Session8.pdf',bbox_inches=\"tight\",dpi=660)\n",
    "plt.show()"
   ]
  }
 ],
 "metadata": {
  "kernelspec": {
   "display_name": "Python 3 (ipykernel)",
   "language": "python",
   "name": "python3"
  },
  "language_info": {
   "codemirror_mode": {
    "name": "ipython",
    "version": 3
   },
   "file_extension": ".py",
   "mimetype": "text/x-python",
   "name": "python",
   "nbconvert_exporter": "python",
   "pygments_lexer": "ipython3",
   "version": "3.12.0"
  }
 },
 "nbformat": 4,
 "nbformat_minor": 5
}
