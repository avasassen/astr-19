{
 "cells": [
  {
   "cell_type": "markdown",
   "id": "6ee86803-a977-49c3-b09d-e747d5207a1f",
   "metadata": {},
   "source": [
    "# Making multipanel plots"
   ]
  },
  {
   "cell_type": "code",
   "execution_count": null,
   "id": "90799e15-66fe-4bad-90ce-1c26828cb3d9",
   "metadata": {},
   "outputs": [],
   "source": [
    "%matplotlib inline\n",
    "import numpy as np\n",
    "import matplotlib.pyplot as plt"
   ]
  },
  {
   "cell_type": "markdown",
   "id": "15ed72f4-56b4-4dd6-9720-988e62c238e0",
   "metadata": {},
   "source": [
    "Define an array of angles, and their sines and cosines using numpy. This time we will use linspace"
   ]
  },
  {
   "cell_type": "code",
   "execution_count": null,
   "id": "9f85cb1c-23b0-4d3b-b5d5-6cbac8dca594",
   "metadata": {},
   "outputs": [],
   "source": [
    "x = np.linspace(0,2*np.pi,100)   # 0 to 2pi with 100 numbers\n",
    "print(x[-1],2*np.pi)\n",
    "\n",
    "y = np.sin(x)\n",
    "z = np.cos(x)\n",
    "w = np.sin(4*x)    # changes freqency of sin curve (4x the frequency)\n",
    "v = np.cos(4*x)    # changes the width of the cos curve (4x skinnier)"
   ]
  },
  {
   "cell_type": "markdown",
   "id": "d89c3991-80ad-47b0-bbf3-46e92d76fc8f",
   "metadata": {},
   "source": [
    "Making a two panel plot side-by-side"
   ]
  },
  {
   "cell_type": "code",
   "execution_count": null,
   "id": "9cc7a5c9-1445-4df7-b868-9a36707f452d",
   "metadata": {},
   "outputs": [],
   "source": [
    "# call subplots to generate a multipanel figure. This means 1 row, 2 columns of figures\n",
    "# using subplots means you want more than one plot\n",
    "# f stands for figure\n",
    "# axarr is an array and each array element is an axis\n",
    "# each one of our subplots is an axis\n",
    "f, axarr = plt.subplots(1,2)   # two subplots in a single row, side by side\n",
    "\n",
    "# treat axarr as an array, from left to right\n",
    "\n",
    "# first panel, indicate which subplot you are plotting on using axarr\n",
    "axarr[0].plot(x,y)\n",
    "axarr[0].set_xlabel('x')\n",
    "axarr[0].set_ylabel('sin(x)')\n",
    "axarr[0].set_title(r'$\\sin(x)$')    # math mode can use LaTex to typeset equations\n",
    "# second panel\n",
    "axarr[1].plot(x,z)\n",
    "axarr[1].set_xlabel('x')\n",
    "axarr[1].set_ylabel('cos(x)')\n",
    "axarr[1].set_title(r'$\\cos(x)$')    # renders the font as \"math font\" looks like desmos"
   ]
  },
  {
   "cell_type": "markdown",
   "id": "34b2d040-a84a-4516-864a-d785b4afd3d2",
   "metadata": {},
   "source": [
    "Panels are too close together, We can adjust that using the subplots_adjust() function"
   ]
  },
  {
   "cell_type": "markdown",
   "id": "44dfdaee-7bd1-4d5f-bbae-27bce665df70",
   "metadata": {},
   "source": [
    "# code copied from above to show difference\n",
    "f, axarr = plt.subplots(1,2)\n",
    "\n",
    "# first panel\n",
    "axarr[0].plot(x,y)\n",
    "axarr[0].set_xlabel('x')\n",
    "axarr[0].set_ylabel('sin(x)')\n",
    "axarr[0].set_title(r'$\\sin(x)$')\n",
    "# second panel\n",
    "axarr[1].plot(x,z)\n",
    "axarr[1].set_xlabel('x')\n",
    "axarr[1].set_ylabel('cos(x)')\n",
    "axarr[1].set_title(r'$\\cos(x)$')\n",
    "\n",
    "# add more space between the figures\n",
    "f.subplots_adjust(wspace=0.4)   # adjuts the \"width\" space between subplot panels\n"
   ]
  },
  {
   "cell_type": "markdown",
   "id": "0e1b3e21-67b8-4fee-8637-fe5ecd24577e",
   "metadata": {},
   "source": [
    "axis ratios are squished, lets fix it"
   ]
  },
  {
   "cell_type": "code",
   "execution_count": null,
   "id": "171ee1f0-d9b0-4eb1-9a83-ded60cb65b5b",
   "metadata": {},
   "outputs": [],
   "source": [
    "f, axarr = plt.subplots(1,2)  \n",
    "\n",
    "# first panel\n",
    "axarr[0].plot(x,y)\n",
    "axarr[0].set_xlabel('x')\n",
    "axarr[0].set_ylabel('sin(x)')\n",
    "axarr[0].set_title(r'$\\sin(x)$')\n",
    "# second panel\n",
    "axarr[1].plot(x,z)\n",
    "axarr[1].set_xlabel('x')\n",
    "axarr[1].set_ylabel('cos(x)')\n",
    "axarr[1].set_title(r'$\\cos(x)$')\n",
    "\n",
    "# add more space between the figures\n",
    "f.subplots_adjust(wspace=0.4)\n",
    "\n",
    "# fix the axis ratio\n",
    "# here are two possible options\n",
    "axarr[0].set_aspect('equal')   # make the ratio of the tick units equal, a bit counter intuitive\n",
    "axarr[1].set_aspect(np.pi)     # make a square by setting the aspect to be the ratio of the tick unit range"
   ]
  },
  {
   "cell_type": "markdown",
   "id": "59e2d6d2-c09c-4eb8-ab4f-cb122872d021",
   "metadata": {},
   "source": [
    "Keep square figure, merge them into one, remove the titles and add legends"
   ]
  },
  {
   "cell_type": "code",
   "execution_count": null,
   "id": "0d60919a-7146-4204-96f3-83a14fbadb23",
   "metadata": {},
   "outputs": [],
   "source": [
    "# adjust the size of the figure\n",
    "fig = plt.figure(figsize=(6,6))\n",
    "\n",
    "\n",
    "plt.plot(x, y, label=r'$y = \\sin(x)$')  #add a label to the line\n",
    "plt.plot(x, z, label=r'$y = \\cos(x)$')  #add a label to the second line\n",
    "plt.plot(x, w, label=r'$y = \\sin(4x)$') #add a label to the third line\n",
    "plt.plot(x, v, label=r'$y = \\cos(4x)$') #add a label to the fourth line\n",
    "\n",
    "plt.xlabel(r'$x$')                       #note set_xlabel vs. xlabel\n",
    "plt.ylabel(r'$y(x)$')                    #note set_ylabel vs. ylabel\n",
    "plt.xlim([0,2*np.pi])                    #note set_xlim vs. xlim\n",
    "plt.ylim([-1.2,1.2])                     #note set_ylim vs. ylim\n",
    "plt.legend(loc=1,framealpha=0.95)        #add a legend with a semi-transparent frame in the upper RH corner\n",
    "\n",
    "#fix the axis ratio\n",
    "plt.gca().set_aspect(np.pi/1.2)          #use \"gca\" to get current axis()"
   ]
  },
  {
   "cell_type": "code",
   "execution_count": null,
   "id": "a0e055bf-af34-40b0-b5f1-f0fefc90d68e",
   "metadata": {},
   "outputs": [],
   "source": []
  }
 ],
 "metadata": {
  "kernelspec": {
   "display_name": "Python 3 (ipykernel)",
   "language": "python",
   "name": "python3"
  },
  "language_info": {
   "codemirror_mode": {
    "name": "ipython",
    "version": 3
   },
   "file_extension": ".py",
   "mimetype": "text/x-python",
   "name": "python",
   "nbconvert_exporter": "python",
   "pygments_lexer": "ipython3",
   "version": "3.12.0"
  }
 },
 "nbformat": 4,
 "nbformat_minor": 5
}
