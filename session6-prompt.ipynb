{
 "cells": [
  {
   "cell_type": "markdown",
   "id": "fa4ff402-e48f-476d-af55-839337767218",
   "metadata": {},
   "source": [
    "# Session 6 Prompt"
   ]
  },
  {
   "cell_type": "markdown",
   "id": "cb1490fa-9344-4b2f-ac9f-158b2ffd6db9",
   "metadata": {},
   "source": [
    "Import numpy libraries"
   ]
  },
  {
   "cell_type": "code",
   "execution_count": 33,
   "id": "484a61e2-21a3-420d-bc94-7527bbe11c23",
   "metadata": {},
   "outputs": [],
   "source": [
    "# import libraries\n",
    "import numpy as np"
   ]
  },
  {
   "cell_type": "markdown",
   "id": "9e0a95e7-9f24-4550-b43c-45184fd02f49",
   "metadata": {},
   "source": [
    "Defines x using linspace to specify range and entries\n",
    "Define sinx and cosx using numpy, single variable is used for efficency"
   ]
  },
  {
   "cell_type": "code",
   "execution_count": 34,
   "id": "44628b3a-78d6-4fd9-9041-1f890218e5ed",
   "metadata": {},
   "outputs": [],
   "source": [
    "x = np.linspace(0.0,2,num=1000)\n",
    "y1 = np.sin(x)\n",
    "y2 = np.cos(x)"
   ]
  },
  {
   "cell_type": "markdown",
   "id": "4aec3967-fa70-48f5-9e95-0f39a11094c6",
   "metadata": {},
   "source": [
    "Create a table using the print function, make a table with 10 values for x, sinx, cosx"
   ]
  },
  {
   "cell_type": "code",
   "execution_count": 35,
   "id": "138b4a93-99a5-4d36-92ae-321247bb24b7",
   "metadata": {},
   "outputs": [
    {
     "name": "stdout",
     "output_type": "stream",
     "text": [
      "   x    |  sinx  |  cosx \n",
      "0.000000|0.000000|1.000000\n",
      "0.002002|0.002002|0.999998\n",
      "0.004004|0.004004|0.999992\n",
      "0.006006|0.006006|0.999982\n",
      "0.008008|0.008008|0.999968\n",
      "0.010010|0.010010|0.999950\n",
      "0.012012|0.012012|0.999928\n",
      "0.014014|0.014014|0.999902\n",
      "0.016016|0.016015|0.999872\n",
      "0.018018|0.018017|0.999838\n"
     ]
    }
   ],
   "source": [
    "print(\"   x    |  sinx  |  cosx \")\n",
    "for i in range(10):\n",
    "    print(f\"{x[i]:3f}|{y1[i]:3f}|{y2[i]:3f}\")"
   ]
  }
 ],
 "metadata": {
  "kernelspec": {
   "display_name": "Python 3 (ipykernel)",
   "language": "python",
   "name": "python3"
  },
  "language_info": {
   "codemirror_mode": {
    "name": "ipython",
    "version": 3
   },
   "file_extension": ".py",
   "mimetype": "text/x-python",
   "name": "python",
   "nbconvert_exporter": "python",
   "pygments_lexer": "ipython3",
   "version": "3.12.0"
  }
 },
 "nbformat": 4,
 "nbformat_minor": 5
}
